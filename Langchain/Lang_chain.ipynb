{
 "cells": [
  {
   "cell_type": "code",
   "execution_count": 1,
   "id": "4a2fabfc-bb77-4f02-bf19-799826319951",
   "metadata": {},
   "outputs": [],
   "source": [
    "import getpass\n",
    "import os\n",
    "\n",
    "if \"GROQ_API_KEY\" not in os.environ:\n",
    "    os.environ[\"GROQ_API_KEY\"] = getpass.getpass(\"Enter your Groq API key: \")"
   ]
  },
  {
   "cell_type": "code",
   "execution_count": 2,
   "id": "504b89b7-27e2-4f1a-9802-e62ca67380d1",
   "metadata": {
    "collapsed": true,
    "jupyter": {
     "outputs_hidden": true
    }
   },
   "outputs": [],
   "source": [
    "from langchain_groq import ChatGroq\n",
    "from dotenv import load_dotenv\n",
    "load_dotenv(\"api.env\")\n",
    "\n",
    "llm = ChatGroq(\n",
    "    model=\"llama-3.1-8b-instant\",\n",
    "    temperature=0,\n",
    ")\n"
   ]
  },
  {
   "cell_type": "code",
   "execution_count": 3,
   "id": "cef73c7a-685c-4024-88a3-b535358c5e58",
   "metadata": {},
   "outputs": [
    {
     "data": {
      "text/plain": [
       "158"
      ]
     },
     "execution_count": 3,
     "metadata": {},
     "output_type": "execute_result"
    }
   ],
   "source": [
    "from langchain.text_splitter import RecursiveCharacterTextSplitter\n",
    "\n",
    "\n",
    "with open(r\"E:\\IITB\\SoC LLM Research Agent\\LLM-Powered-Research-Agent\\Parsing\\text.txt\", \"r\", encoding=\"utf-8\") as f:\n",
    "        text = f.read()\n",
    "\n",
    "text_splitter = RecursiveCharacterTextSplitter(\n",
    "            # separator=[\"\\n\\n\", \"\\n\", \" \", \"\"] default list\n",
    "            chunk_size=1000,\n",
    "            chunk_overlap=200,\n",
    "            length_function=len,\n",
    "            is_separator_regex=False,\n",
    ")\n",
    "\n",
    "texts = text_splitter.create_documents([text])\n",
    "\n",
    "len(texts)"
   ]
  },
  {
   "cell_type": "code",
   "execution_count": 4,
   "id": "068f347d-5a3e-4517-98b5-9487dd39d23a",
   "metadata": {
    "collapsed": true,
    "jupyter": {
     "outputs_hidden": true
    }
   },
   "outputs": [],
   "source": [
    "from langchain_huggingface import HuggingFaceEmbeddings\n",
    "\n",
    "embedding_model = HuggingFaceEmbeddings(model_name=\"all-MiniLM-L6-v2\")"
   ]
  },
  {
   "cell_type": "code",
   "execution_count": 7,
   "id": "e1e17098-006a-453f-b11e-6cc9016a2789",
   "metadata": {},
   "outputs": [],
   "source": [
    "import faiss\n",
    "from langchain_community.docstore.in_memory import InMemoryDocstore\n",
    "from langchain_community.vectorstores import FAISS\n",
    "\n",
    "embedding_dim = 384\n",
    "index = faiss.IndexFlatL2(embedding_dim)\n",
    "\n",
    "vector_store = FAISS(\n",
    "    embedding_function=embedding_model,\n",
    "    index=index,\n",
    "    docstore=InMemoryDocstore(),\n",
    "    index_to_docstore_id={},\n",
    ")"
   ]
  },
  {
   "cell_type": "code",
   "execution_count": 8,
   "id": "f71d1110-8a6b-4498-9e87-881731b7afaf",
   "metadata": {
    "collapsed": true,
    "jupyter": {
     "outputs_hidden": true
    }
   },
   "outputs": [
    {
     "data": {
      "text/plain": [
       "['7a5c6a1a-d19e-48cc-abd8-d9b7628b7951',\n",
       " '49da053d-f385-4631-b525-6c6da773ff92',\n",
       " '535f41d0-8d31-4802-b4e4-b6621d7d9705',\n",
       " 'e488bd38-6d2e-4ea4-8e16-4991a519ec9d',\n",
       " '6d49ebc6-f966-4828-b5ed-30dec719d879',\n",
       " '0395d539-8451-416b-b215-755dbeb79f2e',\n",
       " '9db8a322-de7c-48f1-8ec5-b8634cd1d60b',\n",
       " 'a3c35a79-3eb9-462e-b2b6-54b1b5a8d4fe',\n",
       " 'b3e110dd-b270-4d87-950b-e7d0b1e44486',\n",
       " '49ba0d1b-1f23-4fbe-ab3f-712526922a9f',\n",
       " 'c77183f6-68af-405c-9601-358f0c25c683',\n",
       " 'f8e74861-4a00-4343-b3c2-22e80397fe27',\n",
       " '6ec62ce7-9865-4a9b-b60c-9a2397faa2db',\n",
       " '1aa5845b-4bd6-4c88-a183-8b5d8a79acef',\n",
       " 'c5a27a8e-ef27-4244-b8d3-654e7a339e08',\n",
       " '95b846a5-3e24-4e4a-82d6-2e74254f9d92',\n",
       " '5c9d7b53-8487-4191-8972-10b5836f663b',\n",
       " '984291b8-2be8-4752-a5e2-d7143b8a480e',\n",
       " 'dee226a4-b962-44a5-8f6c-9a0ece51c146',\n",
       " 'd432efe4-e8c2-44ba-8928-07fa83030d7f',\n",
       " 'ca7d8cff-b1f9-4b6c-9a19-de2f3b3704d2',\n",
       " 'a9e6247f-4ae4-4606-877c-165679f96c88',\n",
       " 'ae53063e-78c9-4611-9e5d-16b90b6787ae',\n",
       " 'f4f41d61-66ce-4bda-b254-430de4cc87dc',\n",
       " 'c71c4ec2-e9dd-429f-afc5-ef5afe7abd20',\n",
       " '3c2bf0f4-a834-43f2-95c8-dca32a089840',\n",
       " 'd0ec7bec-9b33-4990-9236-0f7a4a8a6643',\n",
       " '07989cbf-8b14-4653-b164-167511c039d3',\n",
       " 'c411c099-44dc-4b4c-a71e-9f561617f0f5',\n",
       " 'c3d4fc1d-e4f0-4ab1-a1ed-17516812d21a',\n",
       " 'a689d1dd-62dd-43c3-a0d3-d99b8362442c',\n",
       " '12fb330a-88e9-432e-9c3a-0923ee976a78',\n",
       " 'c220b092-9ab6-43e4-aa06-830ef9fecee2',\n",
       " '6eb2830d-97ec-439d-b43b-df3216cecd49',\n",
       " 'db6a1747-46ec-4751-8977-71c31f4bbc8f',\n",
       " '28ef4138-3c8b-4618-83c0-6c877ab80678',\n",
       " '74cbb7d7-1543-4a7c-8720-724110b7e055',\n",
       " '8ebb5904-a4a9-4c73-9a6b-e4c95aff571b',\n",
       " 'ba7de3ef-078c-4aea-9e1a-5ca59820b042',\n",
       " '3de5b6ca-a83d-4405-b579-6848b8b92dcb',\n",
       " '78842c16-ac27-4fb5-af4f-f93d450e60f1',\n",
       " 'bcbd8136-77b1-4bfa-b193-a8fc2c979d15',\n",
       " 'b7139253-4d02-4b34-b710-3551e8c784d6',\n",
       " 'f419f74b-7652-4057-8bb9-20dcd8a2078e',\n",
       " 'e4d79680-f20e-4708-9d12-93021dca03d6',\n",
       " '633d70f9-4873-4035-8709-80cddd44d45a',\n",
       " 'd5db22d7-dab4-4ecd-a1a7-38702909245d',\n",
       " '084f7cf6-41ea-449b-b3e5-f3419a1145d7',\n",
       " '1642e442-e831-4f49-8706-81e08037740f',\n",
       " '115746ad-5925-4bbf-a09c-f638af03c645',\n",
       " '3e647ad5-8373-4ddb-bcfb-c6b634d7ac35',\n",
       " '43076bb2-dc20-4250-8ec0-fe09ba814ee8',\n",
       " '4d858f33-b8c3-443c-b874-12c7064c3c79',\n",
       " 'bdc6f578-95c4-42d2-9a88-c1dc97770ebd',\n",
       " '3c2caf10-bb71-457d-be22-f5c49de22ca1',\n",
       " 'd7eb7f2b-d036-41ce-8304-3eb6b6da56f5',\n",
       " 'b7873cb8-be10-4a05-8281-a8780be353cd',\n",
       " 'efcfb71c-b5d3-4148-8234-f7d23e905fab',\n",
       " 'd65f37b6-9df9-4e39-8dea-18cb2711ea1c',\n",
       " '84fb8a9b-045a-4466-8218-3f60ad268eeb',\n",
       " 'f0b04d65-de22-439d-bd96-0cfe6aee95e5',\n",
       " 'e3a30480-83cc-4263-b26e-ab61016f72c9',\n",
       " '1a090dd5-4852-4957-bedf-c3bdce2fc059',\n",
       " 'd1391100-b022-4880-8522-40b1e70c9093',\n",
       " 'c7cf0b9e-f5bf-41ef-88ea-46e5fb4413b6',\n",
       " 'ca076401-f8b9-4bef-82ed-84b24d914603',\n",
       " 'f5107d0f-4000-466f-a953-fa6d047e9fe2',\n",
       " '885e4c7d-3aa8-4954-928c-7c9f8359abb6',\n",
       " '34a024f9-bf3f-4f82-b482-b278afbba7de',\n",
       " '5c3c39f1-a4a4-4509-89f4-b47c412297dd',\n",
       " 'ad8152d3-7fb4-41dd-a62f-b04b197f1de5',\n",
       " 'de1cef95-6f07-458e-b513-e41b09ca5e7a',\n",
       " '80c90606-e942-46d6-b9eb-4178ef4ebc0e',\n",
       " '00e4bce8-9b95-4bd2-bf88-5c442dc613ae',\n",
       " '1f62a23b-f7eb-4554-93ff-43bc8e06ed07',\n",
       " '53edd914-64ce-4d14-91e0-9a97fd91811a',\n",
       " '0ed88b35-0589-49ab-8638-c7e14bb6b987',\n",
       " '6c46a832-4965-4e2e-a9cd-000a3934ef7c',\n",
       " '0a70e6f1-37e8-4eba-b81d-62e7c67029a8',\n",
       " '211b45d3-3936-4bd7-ab91-0a954f1fe4cf',\n",
       " '894fb245-2151-4a74-9df3-0ae647cb057d',\n",
       " 'a4fb068e-4221-4557-8d41-6fc857ff6d36',\n",
       " '849ae55d-1a1d-40ea-94b7-32edbb51c332',\n",
       " 'b43754ba-3658-4276-aab8-da6b036189a3',\n",
       " '6bdabd7c-2f18-4c11-8589-5c7d8c76b7c9',\n",
       " '5c0b277d-7f61-483e-9888-74b53a5c4300',\n",
       " '600008ec-7548-496c-ae1f-59e0c6e05011',\n",
       " 'ee3fc6db-592c-4447-a8f6-a18fafbcc1ab',\n",
       " '88dc064e-9bb8-404b-a6d6-212cb9662663',\n",
       " '60ffd4a5-c208-4f8a-a0ef-a40923b133fb',\n",
       " '8f7344f8-bf73-4d1d-94c3-073bac6a327b',\n",
       " '9c2f1fc1-4fcf-4dbd-b95b-dcddc75dc524',\n",
       " 'ffdfa691-0006-4004-bae6-73350c56ab2d',\n",
       " '197b03f6-5e59-458a-bb98-d18fc285b16a',\n",
       " '97b6473c-cc74-4b6d-b0b2-711cb7d7e61f',\n",
       " 'e55c63cf-c45d-4f01-a0be-6568f19188ef',\n",
       " 'cc0702c7-a6ad-46af-b0c7-7e5ecb0fd83a',\n",
       " 'a0c93fd0-a8c6-4e11-9c1e-b50be8f6d104',\n",
       " 'bf71d076-5f6a-4821-a341-8d65b58f0ffa',\n",
       " 'f5349c36-b01c-4be3-8233-e7a2c2e32a0e',\n",
       " '345f9c45-61b9-4c4e-b38b-4f37712a0efd',\n",
       " '422b5388-89e7-453d-89ae-05136d138245',\n",
       " '04c44ccb-282b-468a-b48f-3d2cea5f53a9',\n",
       " '596deaa1-d5cb-4243-98c5-5aae6e042eb6',\n",
       " '3f9d80f5-50c6-4af7-b316-05179f0dd998',\n",
       " '081c8248-ab9e-4ea9-acff-9a7cd6378140',\n",
       " 'a9954337-ce40-4e00-8575-fe6e06601677',\n",
       " '261a98ce-075c-4408-9d0b-4963add528dc',\n",
       " 'c7d36a51-f624-47bd-a29d-058886f9d166',\n",
       " '774aac1c-5026-4556-9a1a-5dd260fe84fe',\n",
       " '28ccab1c-82d8-4c1d-ba9f-34616408a9fd',\n",
       " '395bbe45-1821-45aa-9312-f259dbafcbfe',\n",
       " 'b40dabc4-1e79-48ee-a292-0ff6320fba61',\n",
       " 'f7aed50d-c045-4217-b4b8-a55dc8fd907c',\n",
       " 'be3f015a-0ed0-45cf-92c7-38dd383d45f5',\n",
       " 'f84282fc-4981-4d9c-8d22-b936a4961d1c',\n",
       " '8ceddb02-935c-4975-b06b-5a5273c46af0',\n",
       " '7783d366-0a9e-44e7-8ec9-1b567a06ddd2',\n",
       " '4f2afa7c-3300-4644-8da8-e7f5733d24e0',\n",
       " '89aee71e-672d-4726-91d0-42382f97ba45',\n",
       " '1c735da4-9374-4ee5-9fdf-690fcc3cb420',\n",
       " 'd5ad39ad-4411-4328-9d93-8698423b2e83',\n",
       " '5e9233bf-b031-4d4c-bc60-8ac8032f53f1',\n",
       " '1d42eef4-ada7-434b-89e4-389368158fa1',\n",
       " 'fa4aa0dc-7b8f-4e45-8418-725e0877c548',\n",
       " 'ae335a38-7007-4178-b919-d7970aaba854',\n",
       " '0c64d06a-9a53-4f84-a05d-73bb3eebb8e3',\n",
       " '95335214-b77b-4e04-94ae-2d65c7f1f173',\n",
       " 'ee1e711a-4271-40bc-b2e4-10343b071638',\n",
       " '6fb0bb84-2997-4a3a-b724-0b9bab9b360d',\n",
       " '59df9108-b212-4cb0-8851-9c19691b3843',\n",
       " '4361150e-678d-401b-bf8c-50970fde9c3c',\n",
       " '1003e975-4e12-4f60-93c6-424d4042c0e8',\n",
       " '54dee1a8-e8f4-445c-9c6f-afcdc2421db4',\n",
       " '225d3bdf-a083-42c1-ba5d-2df4e3aa4036',\n",
       " '0b51cb5d-0d19-4d4c-9eac-f7db134ba49f',\n",
       " '90fed7f1-ffa2-414d-9f2c-819c0a3d7cec',\n",
       " 'faf83630-7668-4dda-a4ff-ae4cda551d01',\n",
       " '8e7d4c74-cc62-4bee-b138-2cfd3536df6e',\n",
       " '25ecfc1f-8a0e-4135-8670-c92d914075ad',\n",
       " '87a0a9fc-4267-40ef-8b7c-eda7e634b0a1',\n",
       " 'f125709b-6ebe-42fe-9320-24b0684f8844',\n",
       " '5a07e007-31fa-472e-8e01-8aa7420d5454',\n",
       " 'cc1a1551-c807-4326-9dfd-3587ec3a6620',\n",
       " '152c9148-2218-4a93-b3ab-ce3c8b4cdf64',\n",
       " '4541e688-0b1b-4186-805b-325ebd75d90e',\n",
       " 'fb7b12f7-ed89-4bbe-9e05-22479eef9669',\n",
       " '7a0a7727-f2ce-4409-9080-cf543fa041dd',\n",
       " '6536eb61-0e13-4055-9540-74c855990a71',\n",
       " '7c994377-a2cb-4da8-95f9-9e8ee6dee45b',\n",
       " '9fa78387-7f1b-4830-8a92-fa0ed901482a',\n",
       " '08ae1455-43b3-43c7-8e27-b671dbac5fa5',\n",
       " 'e31aa506-641c-48be-befd-3777d4e181dc',\n",
       " '426b684b-1814-4aef-bdd5-b5c8bc855724',\n",
       " 'b32d1926-924f-4d7c-af6f-4d502becfc14',\n",
       " 'c50e0375-1c67-4b3b-884c-aef3d99334fb',\n",
       " '47ca51fe-f2c7-4d59-8b71-edcb315f4ee2',\n",
       " 'c44e4b12-412e-448e-a188-efbc334feafc']"
      ]
     },
     "execution_count": 8,
     "metadata": {},
     "output_type": "execute_result"
    }
   ],
   "source": [
    "vector_store.add_documents(texts)"
   ]
  },
  {
   "cell_type": "code",
   "execution_count": 9,
   "id": "9f97c1ad-e12c-4fbe-8a2f-c22c6ffa2f09",
   "metadata": {},
   "outputs": [],
   "source": [
    "retriever = vector_store.as_retriever"
   ]
  },
  {
   "cell_type": "code",
   "execution_count": 10,
   "id": "a8c1e2ae",
   "metadata": {},
   "outputs": [
    {
     "ename": "ValidationError",
     "evalue": "1 validation error for RetrievalQA\nretriever\n  Input should be a valid dictionary or instance of BaseRetriever [type=model_type, input_value=<bound method VectorStore... at 0x000001E28C356900>>, input_type=method]\n    For further information visit https://errors.pydantic.dev/2.11/v/model_type",
     "output_type": "error",
     "traceback": [
      "\u001b[31m---------------------------------------------------------------------------\u001b[39m",
      "\u001b[31mValidationError\u001b[39m                           Traceback (most recent call last)",
      "\u001b[36mCell\u001b[39m\u001b[36m \u001b[39m\u001b[32mIn[10]\u001b[39m\u001b[32m, line 3\u001b[39m\n\u001b[32m      1\u001b[39m \u001b[38;5;28;01mfrom\u001b[39;00m\u001b[38;5;250m \u001b[39m\u001b[34;01mlangchain\u001b[39;00m\u001b[34;01m.\u001b[39;00m\u001b[34;01mchains\u001b[39;00m\u001b[38;5;250m \u001b[39m\u001b[38;5;28;01mimport\u001b[39;00m RetrievalQA\n\u001b[32m----> \u001b[39m\u001b[32m3\u001b[39m qa_chain = \u001b[43mRetrievalQA\u001b[49m\u001b[43m.\u001b[49m\u001b[43mfrom_chain_type\u001b[49m\u001b[43m(\u001b[49m\u001b[43mllm\u001b[49m\u001b[43m=\u001b[49m\u001b[43mllm\u001b[49m\u001b[43m,\u001b[49m\u001b[43m \u001b[49m\u001b[43mretriever\u001b[49m\u001b[43m=\u001b[49m\u001b[43mretriever\u001b[49m\u001b[43m,\u001b[49m\u001b[43m \u001b[49m\u001b[43mreturn_source_documents\u001b[49m\u001b[43m=\u001b[49m\u001b[38;5;28;43;01mTrue\u001b[39;49;00m\u001b[43m)\u001b[49m\n",
      "\u001b[36mFile \u001b[39m\u001b[32me:\\IITB\\SoC LLM Research Agent\\LLM-Powered-Research-Agent\\venv\\Lib\\site-packages\\langchain\\chains\\retrieval_qa\\base.py:118\u001b[39m, in \u001b[36mBaseRetrievalQA.from_chain_type\u001b[39m\u001b[34m(cls, llm, chain_type, chain_type_kwargs, **kwargs)\u001b[39m\n\u001b[32m    114\u001b[39m _chain_type_kwargs = chain_type_kwargs \u001b[38;5;129;01mor\u001b[39;00m {}\n\u001b[32m    115\u001b[39m combine_documents_chain = load_qa_chain(\n\u001b[32m    116\u001b[39m     llm, chain_type=chain_type, **_chain_type_kwargs\n\u001b[32m    117\u001b[39m )\n\u001b[32m--> \u001b[39m\u001b[32m118\u001b[39m \u001b[38;5;28;01mreturn\u001b[39;00m \u001b[38;5;28;43mcls\u001b[39;49m\u001b[43m(\u001b[49m\u001b[43mcombine_documents_chain\u001b[49m\u001b[43m=\u001b[49m\u001b[43mcombine_documents_chain\u001b[49m\u001b[43m,\u001b[49m\u001b[43m \u001b[49m\u001b[43m*\u001b[49m\u001b[43m*\u001b[49m\u001b[43mkwargs\u001b[49m\u001b[43m)\u001b[49m\n",
      "\u001b[36mFile \u001b[39m\u001b[32me:\\IITB\\SoC LLM Research Agent\\LLM-Powered-Research-Agent\\venv\\Lib\\site-packages\\langchain_core\\_api\\deprecation.py:222\u001b[39m, in \u001b[36mdeprecated.<locals>.deprecate.<locals>.finalize.<locals>.warn_if_direct_instance\u001b[39m\u001b[34m(self, *args, **kwargs)\u001b[39m\n\u001b[32m    220\u001b[39m     warned = \u001b[38;5;28;01mTrue\u001b[39;00m\n\u001b[32m    221\u001b[39m     emit_warning()\n\u001b[32m--> \u001b[39m\u001b[32m222\u001b[39m \u001b[38;5;28;01mreturn\u001b[39;00m \u001b[43mwrapped\u001b[49m\u001b[43m(\u001b[49m\u001b[38;5;28;43mself\u001b[39;49m\u001b[43m,\u001b[49m\u001b[43m \u001b[49m\u001b[43m*\u001b[49m\u001b[43margs\u001b[49m\u001b[43m,\u001b[49m\u001b[43m \u001b[49m\u001b[43m*\u001b[49m\u001b[43m*\u001b[49m\u001b[43mkwargs\u001b[49m\u001b[43m)\u001b[49m\n",
      "\u001b[36mFile \u001b[39m\u001b[32me:\\IITB\\SoC LLM Research Agent\\LLM-Powered-Research-Agent\\venv\\Lib\\site-packages\\langchain_core\\_api\\deprecation.py:222\u001b[39m, in \u001b[36mdeprecated.<locals>.deprecate.<locals>.finalize.<locals>.warn_if_direct_instance\u001b[39m\u001b[34m(self, *args, **kwargs)\u001b[39m\n\u001b[32m    220\u001b[39m     warned = \u001b[38;5;28;01mTrue\u001b[39;00m\n\u001b[32m    221\u001b[39m     emit_warning()\n\u001b[32m--> \u001b[39m\u001b[32m222\u001b[39m \u001b[38;5;28;01mreturn\u001b[39;00m \u001b[43mwrapped\u001b[49m\u001b[43m(\u001b[49m\u001b[38;5;28;43mself\u001b[39;49m\u001b[43m,\u001b[49m\u001b[43m \u001b[49m\u001b[43m*\u001b[49m\u001b[43margs\u001b[49m\u001b[43m,\u001b[49m\u001b[43m \u001b[49m\u001b[43m*\u001b[49m\u001b[43m*\u001b[49m\u001b[43mkwargs\u001b[49m\u001b[43m)\u001b[49m\n",
      "\u001b[36mFile \u001b[39m\u001b[32me:\\IITB\\SoC LLM Research Agent\\LLM-Powered-Research-Agent\\venv\\Lib\\site-packages\\langchain_core\\load\\serializable.py:130\u001b[39m, in \u001b[36mSerializable.__init__\u001b[39m\u001b[34m(self, *args, **kwargs)\u001b[39m\n\u001b[32m    128\u001b[39m \u001b[38;5;28;01mdef\u001b[39;00m\u001b[38;5;250m \u001b[39m\u001b[34m__init__\u001b[39m(\u001b[38;5;28mself\u001b[39m, *args: Any, **kwargs: Any) -> \u001b[38;5;28;01mNone\u001b[39;00m:\n\u001b[32m    129\u001b[39m \u001b[38;5;250m    \u001b[39m\u001b[33;03m\"\"\"\"\"\"\u001b[39;00m  \u001b[38;5;66;03m# noqa: D419\u001b[39;00m\n\u001b[32m--> \u001b[39m\u001b[32m130\u001b[39m     \u001b[38;5;28;43msuper\u001b[39;49m\u001b[43m(\u001b[49m\u001b[43m)\u001b[49m\u001b[43m.\u001b[49m\u001b[34;43m__init__\u001b[39;49m\u001b[43m(\u001b[49m\u001b[43m*\u001b[49m\u001b[43margs\u001b[49m\u001b[43m,\u001b[49m\u001b[43m \u001b[49m\u001b[43m*\u001b[49m\u001b[43m*\u001b[49m\u001b[43mkwargs\u001b[49m\u001b[43m)\u001b[49m\n",
      "\u001b[36mFile \u001b[39m\u001b[32me:\\IITB\\SoC LLM Research Agent\\LLM-Powered-Research-Agent\\venv\\Lib\\site-packages\\pydantic\\main.py:253\u001b[39m, in \u001b[36mBaseModel.__init__\u001b[39m\u001b[34m(self, **data)\u001b[39m\n\u001b[32m    251\u001b[39m \u001b[38;5;66;03m# `__tracebackhide__` tells pytest and some other tools to omit this function from tracebacks\u001b[39;00m\n\u001b[32m    252\u001b[39m __tracebackhide__ = \u001b[38;5;28;01mTrue\u001b[39;00m\n\u001b[32m--> \u001b[39m\u001b[32m253\u001b[39m validated_self = \u001b[38;5;28;43mself\u001b[39;49m\u001b[43m.\u001b[49m\u001b[43m__pydantic_validator__\u001b[49m\u001b[43m.\u001b[49m\u001b[43mvalidate_python\u001b[49m\u001b[43m(\u001b[49m\u001b[43mdata\u001b[49m\u001b[43m,\u001b[49m\u001b[43m \u001b[49m\u001b[43mself_instance\u001b[49m\u001b[43m=\u001b[49m\u001b[38;5;28;43mself\u001b[39;49m\u001b[43m)\u001b[49m\n\u001b[32m    254\u001b[39m \u001b[38;5;28;01mif\u001b[39;00m \u001b[38;5;28mself\u001b[39m \u001b[38;5;129;01mis\u001b[39;00m \u001b[38;5;129;01mnot\u001b[39;00m validated_self:\n\u001b[32m    255\u001b[39m     warnings.warn(\n\u001b[32m    256\u001b[39m         \u001b[33m'\u001b[39m\u001b[33mA custom validator is returning a value other than `self`.\u001b[39m\u001b[38;5;130;01m\\n\u001b[39;00m\u001b[33m'\u001b[39m\n\u001b[32m    257\u001b[39m         \u001b[33m\"\u001b[39m\u001b[33mReturning anything other than `self` from a top level model validator isn\u001b[39m\u001b[33m'\u001b[39m\u001b[33mt supported when validating via `__init__`.\u001b[39m\u001b[38;5;130;01m\\n\u001b[39;00m\u001b[33m\"\u001b[39m\n\u001b[32m    258\u001b[39m         \u001b[33m'\u001b[39m\u001b[33mSee the `model_validator` docs (https://docs.pydantic.dev/latest/concepts/validators/#model-validators) for more details.\u001b[39m\u001b[33m'\u001b[39m,\n\u001b[32m    259\u001b[39m         stacklevel=\u001b[32m2\u001b[39m,\n\u001b[32m    260\u001b[39m     )\n",
      "\u001b[31mValidationError\u001b[39m: 1 validation error for RetrievalQA\nretriever\n  Input should be a valid dictionary or instance of BaseRetriever [type=model_type, input_value=<bound method VectorStore... at 0x000001E28C356900>>, input_type=method]\n    For further information visit https://errors.pydantic.dev/2.11/v/model_type"
     ]
    }
   ],
   "source": [
    "from langchain.chains import RetrievalQA\n",
    "\n",
    "qa_chain = RetrievalQA.from_chain_type(llm=llm, retriever=retriever, return_source_documents=True)"
   ]
  }
 ],
 "metadata": {
  "kernelspec": {
   "display_name": "venv",
   "language": "python",
   "name": "python3"
  },
  "language_info": {
   "codemirror_mode": {
    "name": "ipython",
    "version": 3
   },
   "file_extension": ".py",
   "mimetype": "text/x-python",
   "name": "python",
   "nbconvert_exporter": "python",
   "pygments_lexer": "ipython3",
   "version": "3.13.3"
  }
 },
 "nbformat": 4,
 "nbformat_minor": 5
}
